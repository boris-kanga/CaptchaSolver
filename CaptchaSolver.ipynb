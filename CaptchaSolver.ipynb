{
  "nbformat": 4,
  "nbformat_minor": 0,
  "metadata": {
    "colab": {
      "name": "CaptchaSolver.ipynb",
      "provenance": [],
      "collapsed_sections": [],
      "authorship_tag": "ABX9TyP8syg/EXypDRtpGDRnTZP0",
      "include_colab_link": true
    },
    "kernelspec": {
      "name": "python3",
      "display_name": "Python 3"
    },
    "language_info": {
      "name": "python"
    }
  },
  "cells": [
    {
      "cell_type": "markdown",
      "metadata": {
        "id": "view-in-github",
        "colab_type": "text"
      },
      "source": [
        "<a href=\"https://colab.research.google.com/github/boris-kanga/CaptchaSolver/blob/master/CaptchaSolver.ipynb\" target=\"_parent\"><img src=\"https://colab.research.google.com/assets/colab-badge.svg\" alt=\"Open In Colab\"/></a>"
      ]
    },
    {
      "cell_type": "code",
      "metadata": {
        "colab": {
          "base_uri": "https://localhost:8080/"
        },
        "id": "Ul8QqyYQdBIX",
        "outputId": "6e0d73bf-38bc-4a73-b9c3-647a4a28e4b6"
      },
      "source": [
        "!pip install numpy\n",
        "!pip install imutils\n",
        "!pip install sklearn\n",
        "!pip install tensorflow\n",
        "!pip install keras\n",
        "\n",
        "import matplotlib.pyplot as plt\n",
        "import numpy as np\n",
        "import os\n",
        "import PIL\n",
        "import tensorflow as tf\n",
        "\n",
        "from tensorflow import keras\n",
        "from tensorflow.keras import layers\n",
        "from tensorflow.keras.models import Sequential\n"
      ],
      "execution_count": 1,
      "outputs": [
        {
          "output_type": "stream",
          "text": [
            "Requirement already satisfied: numpy in /usr/local/lib/python3.7/dist-packages (1.19.5)\n",
            "Requirement already satisfied: imutils in /usr/local/lib/python3.7/dist-packages (0.5.4)\n",
            "Requirement already satisfied: sklearn in /usr/local/lib/python3.7/dist-packages (0.0)\n",
            "Requirement already satisfied: scikit-learn in /usr/local/lib/python3.7/dist-packages (from sklearn) (0.22.2.post1)\n",
            "Requirement already satisfied: scipy>=0.17.0 in /usr/local/lib/python3.7/dist-packages (from scikit-learn->sklearn) (1.4.1)\n",
            "Requirement already satisfied: joblib>=0.11 in /usr/local/lib/python3.7/dist-packages (from scikit-learn->sklearn) (1.0.1)\n",
            "Requirement already satisfied: numpy>=1.11.0 in /usr/local/lib/python3.7/dist-packages (from scikit-learn->sklearn) (1.19.5)\n",
            "Requirement already satisfied: tensorflow in /usr/local/lib/python3.7/dist-packages (2.5.0)\n",
            "Requirement already satisfied: keras-nightly~=2.5.0.dev in /usr/local/lib/python3.7/dist-packages (from tensorflow) (2.5.0.dev2021032900)\n",
            "Requirement already satisfied: tensorboard~=2.5 in /usr/local/lib/python3.7/dist-packages (from tensorflow) (2.5.0)\n",
            "Requirement already satisfied: absl-py~=0.10 in /usr/local/lib/python3.7/dist-packages (from tensorflow) (0.12.0)\n",
            "Requirement already satisfied: wrapt~=1.12.1 in /usr/local/lib/python3.7/dist-packages (from tensorflow) (1.12.1)\n",
            "Requirement already satisfied: typing-extensions~=3.7.4 in /usr/local/lib/python3.7/dist-packages (from tensorflow) (3.7.4.3)\n",
            "Requirement already satisfied: six~=1.15.0 in /usr/local/lib/python3.7/dist-packages (from tensorflow) (1.15.0)\n",
            "Requirement already satisfied: astunparse~=1.6.3 in /usr/local/lib/python3.7/dist-packages (from tensorflow) (1.6.3)\n",
            "Requirement already satisfied: gast==0.4.0 in /usr/local/lib/python3.7/dist-packages (from tensorflow) (0.4.0)\n",
            "Requirement already satisfied: keras-preprocessing~=1.1.2 in /usr/local/lib/python3.7/dist-packages (from tensorflow) (1.1.2)\n",
            "Requirement already satisfied: numpy~=1.19.2 in /usr/local/lib/python3.7/dist-packages (from tensorflow) (1.19.5)\n",
            "Requirement already satisfied: google-pasta~=0.2 in /usr/local/lib/python3.7/dist-packages (from tensorflow) (0.2.0)\n",
            "Requirement already satisfied: wheel~=0.35 in /usr/local/lib/python3.7/dist-packages (from tensorflow) (0.36.2)\n",
            "Requirement already satisfied: grpcio~=1.34.0 in /usr/local/lib/python3.7/dist-packages (from tensorflow) (1.34.1)\n",
            "Requirement already satisfied: opt-einsum~=3.3.0 in /usr/local/lib/python3.7/dist-packages (from tensorflow) (3.3.0)\n",
            "Requirement already satisfied: flatbuffers~=1.12.0 in /usr/local/lib/python3.7/dist-packages (from tensorflow) (1.12)\n",
            "Requirement already satisfied: protobuf>=3.9.2 in /usr/local/lib/python3.7/dist-packages (from tensorflow) (3.12.4)\n",
            "Requirement already satisfied: tensorflow-estimator<2.6.0,>=2.5.0rc0 in /usr/local/lib/python3.7/dist-packages (from tensorflow) (2.5.0)\n",
            "Requirement already satisfied: termcolor~=1.1.0 in /usr/local/lib/python3.7/dist-packages (from tensorflow) (1.1.0)\n",
            "Requirement already satisfied: h5py~=3.1.0 in /usr/local/lib/python3.7/dist-packages (from tensorflow) (3.1.0)\n",
            "Requirement already satisfied: google-auth-oauthlib<0.5,>=0.4.1 in /usr/local/lib/python3.7/dist-packages (from tensorboard~=2.5->tensorflow) (0.4.4)\n",
            "Requirement already satisfied: requests<3,>=2.21.0 in /usr/local/lib/python3.7/dist-packages (from tensorboard~=2.5->tensorflow) (2.23.0)\n",
            "Requirement already satisfied: markdown>=2.6.8 in /usr/local/lib/python3.7/dist-packages (from tensorboard~=2.5->tensorflow) (3.3.4)\n",
            "Requirement already satisfied: werkzeug>=0.11.15 in /usr/local/lib/python3.7/dist-packages (from tensorboard~=2.5->tensorflow) (1.0.1)\n",
            "Requirement already satisfied: tensorboard-data-server<0.7.0,>=0.6.0 in /usr/local/lib/python3.7/dist-packages (from tensorboard~=2.5->tensorflow) (0.6.1)\n",
            "Requirement already satisfied: google-auth<2,>=1.6.3 in /usr/local/lib/python3.7/dist-packages (from tensorboard~=2.5->tensorflow) (1.31.0)\n",
            "Requirement already satisfied: setuptools>=41.0.0 in /usr/local/lib/python3.7/dist-packages (from tensorboard~=2.5->tensorflow) (57.0.0)\n",
            "Requirement already satisfied: tensorboard-plugin-wit>=1.6.0 in /usr/local/lib/python3.7/dist-packages (from tensorboard~=2.5->tensorflow) (1.8.0)\n",
            "Requirement already satisfied: cached-property; python_version < \"3.8\" in /usr/local/lib/python3.7/dist-packages (from h5py~=3.1.0->tensorflow) (1.5.2)\n",
            "Requirement already satisfied: requests-oauthlib>=0.7.0 in /usr/local/lib/python3.7/dist-packages (from google-auth-oauthlib<0.5,>=0.4.1->tensorboard~=2.5->tensorflow) (1.3.0)\n",
            "Requirement already satisfied: certifi>=2017.4.17 in /usr/local/lib/python3.7/dist-packages (from requests<3,>=2.21.0->tensorboard~=2.5->tensorflow) (2021.5.30)\n",
            "Requirement already satisfied: idna<3,>=2.5 in /usr/local/lib/python3.7/dist-packages (from requests<3,>=2.21.0->tensorboard~=2.5->tensorflow) (2.10)\n",
            "Requirement already satisfied: urllib3!=1.25.0,!=1.25.1,<1.26,>=1.21.1 in /usr/local/lib/python3.7/dist-packages (from requests<3,>=2.21.0->tensorboard~=2.5->tensorflow) (1.24.3)\n",
            "Requirement already satisfied: chardet<4,>=3.0.2 in /usr/local/lib/python3.7/dist-packages (from requests<3,>=2.21.0->tensorboard~=2.5->tensorflow) (3.0.4)\n",
            "Requirement already satisfied: importlib-metadata; python_version < \"3.8\" in /usr/local/lib/python3.7/dist-packages (from markdown>=2.6.8->tensorboard~=2.5->tensorflow) (4.5.0)\n",
            "Requirement already satisfied: pyasn1-modules>=0.2.1 in /usr/local/lib/python3.7/dist-packages (from google-auth<2,>=1.6.3->tensorboard~=2.5->tensorflow) (0.2.8)\n",
            "Requirement already satisfied: cachetools<5.0,>=2.0.0 in /usr/local/lib/python3.7/dist-packages (from google-auth<2,>=1.6.3->tensorboard~=2.5->tensorflow) (4.2.2)\n",
            "Requirement already satisfied: rsa<5,>=3.1.4; python_version >= \"3.6\" in /usr/local/lib/python3.7/dist-packages (from google-auth<2,>=1.6.3->tensorboard~=2.5->tensorflow) (4.7.2)\n",
            "Requirement already satisfied: oauthlib>=3.0.0 in /usr/local/lib/python3.7/dist-packages (from requests-oauthlib>=0.7.0->google-auth-oauthlib<0.5,>=0.4.1->tensorboard~=2.5->tensorflow) (3.1.1)\n",
            "Requirement already satisfied: zipp>=0.5 in /usr/local/lib/python3.7/dist-packages (from importlib-metadata; python_version < \"3.8\"->markdown>=2.6.8->tensorboard~=2.5->tensorflow) (3.4.1)\n",
            "Requirement already satisfied: pyasn1<0.5.0,>=0.4.6 in /usr/local/lib/python3.7/dist-packages (from pyasn1-modules>=0.2.1->google-auth<2,>=1.6.3->tensorboard~=2.5->tensorflow) (0.4.8)\n",
            "Requirement already satisfied: keras in /usr/local/lib/python3.7/dist-packages (2.4.3)\n",
            "Requirement already satisfied: scipy>=0.14 in /usr/local/lib/python3.7/dist-packages (from keras) (1.4.1)\n",
            "Requirement already satisfied: pyyaml in /usr/local/lib/python3.7/dist-packages (from keras) (3.13)\n",
            "Requirement already satisfied: h5py in /usr/local/lib/python3.7/dist-packages (from keras) (3.1.0)\n",
            "Requirement already satisfied: numpy>=1.9.1 in /usr/local/lib/python3.7/dist-packages (from keras) (1.19.5)\n",
            "Requirement already satisfied: cached-property; python_version < \"3.8\" in /usr/local/lib/python3.7/dist-packages (from h5py->keras) (1.5.2)\n"
          ],
          "name": "stdout"
        }
      ]
    },
    {
      "cell_type": "code",
      "metadata": {
        "colab": {
          "base_uri": "https://localhost:8080/"
        },
        "id": "CDO5SdwEH8iE",
        "outputId": "4bdea4f4-16fb-4012-e27d-c6a00ed992b2"
      },
      "source": [
        "from google.colab import drive\n",
        "drive.mount('/content/drive')"
      ],
      "execution_count": 2,
      "outputs": [
        {
          "output_type": "stream",
          "text": [
            "Mounted at /content/drive\n"
          ],
          "name": "stdout"
        }
      ]
    },
    {
      "cell_type": "code",
      "metadata": {
        "colab": {
          "base_uri": "https://localhost:8080/"
        },
        "id": "U69QX2wWtKPP",
        "outputId": "4853bf1b-034c-4dbd-e778-f15e9ec82f92"
      },
      "source": [
        "import os\n",
        "repo_url = 'https://github.com/boris-kanga/CaptchaSolver.git'\n",
        "%cd /content\n",
        "\n",
        "!git clone {repo_url}\n",
        "%cd /content/CaptchaSolver\n"
      ],
      "execution_count": null,
      "outputs": [
        {
          "output_type": "stream",
          "text": [
            "/content\n",
            "Cloning into 'CaptchaSolver'...\n",
            "remote: Enumerating objects: 2727, done.\u001b[K\n",
            "remote: Counting objects: 100% (2506/2506), done.\u001b[K\n",
            "remote: Compressing objects: 100% (2505/2505), done.\u001b[K\n",
            "remote: Total 2727 (delta 1), reused 2504 (delta 0), pack-reused 221\u001b[K\n",
            "Receiving objects: 100% (2727/2727), 3.80 MiB | 1024.00 KiB/s, done.\n",
            "Resolving deltas: 100% (7/7), done.\n",
            "/content/CaptchaSolver\n"
          ],
          "name": "stdout"
        }
      ]
    },
    {
      "cell_type": "code",
      "metadata": {
        "id": "kEZwcRh8vW2c"
      },
      "source": [
        "import cv2\n",
        "import pickle\n",
        "import os.path\n",
        "import numpy as np\n",
        "from imutils import paths\n",
        "from sklearn.preprocessing import LabelBinarizer\n",
        "from sklearn.model_selection import train_test_split\n",
        "from tensorflow import keras\n",
        "from keras.models import Sequential\n",
        "from keras.layers.convolutional import Conv2D, MaxPooling2D\n",
        "from keras.layers.core import Flatten, Dense\n",
        "from helpers import resize_to_fit"
      ],
      "execution_count": null,
      "outputs": []
    },
    {
      "cell_type": "code",
      "metadata": {
        "id": "4hPWUaBv2lWw"
      },
      "source": [
        "batch_size = 32\n",
        "img_height = 20\n",
        "img_width = 20\n",
        "LETTER_IMAGES_FOLDER = \"extracted_letter_images\"\n",
        "MODEL_FILENAME = \"/content/CaptchaSolver/captcha_model.tflite\"\n",
        "MODEL_LABELS_FILENAME = \"model_labels.text\""
      ],
      "execution_count": null,
      "outputs": []
    },
    {
      "cell_type": "code",
      "metadata": {
        "colab": {
          "base_uri": "https://localhost:8080/"
        },
        "id": "V6cwxBXa2ohw",
        "outputId": "e34ae8ea-9c39-4da6-9e97-285aa4dfa66a"
      },
      "source": [
        "train_ds = tf.keras.preprocessing.image_dataset_from_directory(\n",
        "  LETTER_IMAGES_FOLDER,\n",
        "  validation_split=0.2,\n",
        "  subset=\"training\",\n",
        "  seed=123,\n",
        "  image_size=(img_height, img_width),\n",
        "  batch_size=batch_size)"
      ],
      "execution_count": null,
      "outputs": [
        {
          "output_type": "stream",
          "text": [
            "Found 2171 files belonging to 10 classes.\n",
            "Using 1737 files for training.\n"
          ],
          "name": "stdout"
        }
      ]
    },
    {
      "cell_type": "code",
      "metadata": {
        "colab": {
          "base_uri": "https://localhost:8080/"
        },
        "id": "tzeuZz7F2uoX",
        "outputId": "03b0352e-f1a9-4ff9-bf44-2d6f7565d59b"
      },
      "source": [
        "class_names = train_ds.class_names\n",
        "print(class_names)"
      ],
      "execution_count": null,
      "outputs": [
        {
          "output_type": "stream",
          "text": [
            "['0', '1', '2', '3', '4', '5', '6', '7', '8', '9']\n"
          ],
          "name": "stdout"
        }
      ]
    },
    {
      "cell_type": "code",
      "metadata": {
        "colab": {
          "base_uri": "https://localhost:8080/"
        },
        "id": "gqejK-Rl2q5w",
        "outputId": "24ceee89-95e4-4c2a-c530-68b2aeaa7b47"
      },
      "source": [
        "val_ds = tf.keras.preprocessing.image_dataset_from_directory(\n",
        "  LETTER_IMAGES_FOLDER,\n",
        "  validation_split=0.2,\n",
        "  subset=\"validation\",\n",
        "  seed=123,\n",
        "  image_size=(img_height, img_width),\n",
        "  batch_size=batch_size)"
      ],
      "execution_count": null,
      "outputs": [
        {
          "output_type": "stream",
          "text": [
            "Found 2171 files belonging to 10 classes.\n",
            "Using 434 files for validation.\n"
          ],
          "name": "stdout"
        }
      ]
    },
    {
      "cell_type": "code",
      "metadata": {
        "colab": {
          "base_uri": "https://localhost:8080/",
          "height": 591
        },
        "id": "1QcuPq7curTC",
        "outputId": "eb776c28-eba9-42b0-986b-40a2093ea5f2"
      },
      "source": [
        "\n",
        "import matplotlib.pyplot as plt\n",
        "\n",
        "plt.figure(figsize=(10, 10))\n",
        "for images, labels in train_ds.take(1):\n",
        "  for i in range(9):\n",
        "    ax = plt.subplot(3, 3, i + 1)\n",
        "    plt.imshow(images[i].numpy().astype(\"uint8\"))\n",
        "    plt.title(class_names[labels[i]])\n",
        "    plt.axis(\"off\")"
      ],
      "execution_count": null,
      "outputs": [
        {
          "output_type": "display_data",
          "data": {
            "image/png": "[encoded data removed]",
            "text/plain": [
              "<Figure size 720x720 with 9 Axes>"
            ]
          },
          "metadata": {
            "tags": [],
            "needs_background": "light"
          }
        }
      ]
    },
    {
      "cell_type": "code",
      "metadata": {
        "id": "JUrBBdk13pK1"
      },
      "source": [
        "AUTOTUNE = tf.data.AUTOTUNE\n",
        "\n",
        "train_ds = train_ds.cache().shuffle(1000).prefetch(buffer_size=AUTOTUNE)\n",
        "val_ds = val_ds.cache().prefetch(buffer_size=AUTOTUNE)\n",
        "#normalization_layer = layers.experimental.preprocessing.Rescaling(1./255)"
      ],
      "execution_count": null,
      "outputs": []
    },
    {
      "cell_type": "code",
      "metadata": {
        "id": "bSAcXJu62H6u"
      },
      "source": [
        "num_classes = 10\n",
        "\n",
        "model = Sequential([\n",
        "  layers.experimental.preprocessing.Rescaling(1./255, input_shape=(img_height, img_width)),\n",
        "  layers.Conv2D(16, 3, padding='same', activation='relu'),\n",
        "  layers.MaxPooling2D(),\n",
        "  layers.Conv2D(32, 3, padding='same', activation='relu'),\n",
        "  layers.MaxPooling2D(),\n",
        "  layers.Conv2D(64, 3, padding='same', activation='relu'),\n",
        "  layers.MaxPooling2D(),\n",
        "  layers.Flatten(),\n",
        "  layers.Dense(128, activation='relu'),\n",
        "  layers.Dense(num_classes)\n",
        "])\n",
        "model.compile(optimizer='adam',\n",
        "              loss=tf.keras.losses.SparseCategoricalCrossentropy(from_logits=True),\n",
        "              metrics=['accuracy'])\n",
        "#model.summary()"
      ],
      "execution_count": null,
      "outputs": []
    },
    {
      "cell_type": "code",
      "metadata": {
        "colab": {
          "base_uri": "https://localhost:8080/"
        },
        "id": "NyzYrNHcywYs",
        "outputId": "b4bee684-f99d-4c85-d7d8-311a7d9a0d21"
      },
      "source": [
        "# Train the neural network\n",
        "epochs=10\n",
        "history = model.fit(\n",
        "  train_ds,\n",
        "  validation_data=val_ds,\n",
        "  epochs=epochs\n",
        ")\n"
      ],
      "execution_count": null,
      "outputs": [
        {
          "output_type": "stream",
          "text": [
            "Epoch 1/10\n",
            "55/55 [==============================] - 21s 31ms/step - loss: 2.2430 - accuracy: 0.1586 - val_loss: 1.7389 - val_accuracy: 0.4977\n",
            "Epoch 2/10\n",
            "55/55 [==============================] - 1s 19ms/step - loss: 1.3174 - accuracy: 0.5954 - val_loss: 0.4015 - val_accuracy: 0.8986\n",
            "Epoch 3/10\n",
            "55/55 [==============================] - 1s 19ms/step - loss: 0.3519 - accuracy: 0.8990 - val_loss: 0.1393 - val_accuracy: 0.9724\n",
            "Epoch 4/10\n",
            "55/55 [==============================] - 1s 19ms/step - loss: 0.1373 - accuracy: 0.9648 - val_loss: 0.0549 - val_accuracy: 0.9908\n",
            "Epoch 5/10\n",
            "55/55 [==============================] - 1s 19ms/step - loss: 0.0632 - accuracy: 0.9863 - val_loss: 0.0428 - val_accuracy: 0.9931\n",
            "Epoch 6/10\n",
            "55/55 [==============================] - 1s 19ms/step - loss: 0.0570 - accuracy: 0.9892 - val_loss: 0.0336 - val_accuracy: 0.9954\n",
            "Epoch 7/10\n",
            "55/55 [==============================] - 1s 19ms/step - loss: 0.0457 - accuracy: 0.9890 - val_loss: 0.0289 - val_accuracy: 0.9931\n",
            "Epoch 8/10\n",
            "55/55 [==============================] - 1s 18ms/step - loss: 0.0288 - accuracy: 0.9935 - val_loss: 0.0190 - val_accuracy: 0.9977\n",
            "Epoch 9/10\n",
            "55/55 [==============================] - 1s 18ms/step - loss: 0.0438 - accuracy: 0.9907 - val_loss: 0.0169 - val_accuracy: 1.0000\n",
            "Epoch 10/10\n",
            "55/55 [==============================] - 1s 19ms/step - loss: 0.0534 - accuracy: 0.9875 - val_loss: 0.0083 - val_accuracy: 1.0000\n"
          ],
          "name": "stdout"
        }
      ]
    },
    {
      "cell_type": "code",
      "metadata": {
        "colab": {
          "base_uri": "https://localhost:8080/",
          "height": 499
        },
        "id": "dktyioH04iBX",
        "outputId": "fccd6758-2719-47b1-e9ee-b1265893fe38"
      },
      "source": [
        "acc = history.history['accuracy']\n",
        "val_acc = history.history['val_accuracy']\n",
        "\n",
        "loss = history.history['loss']\n",
        "val_loss = history.history['val_loss']\n",
        "\n",
        "epochs_range = range(epochs)\n",
        "\n",
        "plt.figure(figsize=(8, 8))\n",
        "plt.subplot(1, 2, 1)\n",
        "plt.plot(epochs_range, acc, label='Training Accuracy')\n",
        "plt.plot(epochs_range, val_acc, label='Validation Accuracy')\n",
        "plt.legend(loc='lower right')\n",
        "plt.title('Training and Validation Accuracy')\n",
        "\n",
        "plt.subplot(1, 2, 2)\n",
        "plt.plot(epochs_range, loss, label='Training Loss')\n",
        "plt.plot(epochs_range, val_loss, label='Validation Loss')\n",
        "plt.legend(loc='upper right')\n",
        "plt.title('Training and Validation Loss')\n",
        "plt.show()"
      ],
      "execution_count": null,
      "outputs": [
        {
          "output_type": "display_data",
          "data": {
            "image/png": "[encoded data removed]",
            "text/plain": [
              "<Figure size 576x576 with 2 Axes>"
            ]
          },
          "metadata": {
            "tags": [],
            "needs_background": "light"
          }
        }
      ]
    },
    {
      "cell_type": "code",
      "metadata": {
        "colab": {
          "base_uri": "https://localhost:8080/"
        },
        "id": "cGbYVVwm4kTP",
        "outputId": "d22e8fea-2069-431c-b30e-102da40692f7"
      },
      "source": [
        "img = keras.preprocessing.image.load_img( \"/content/CaptchaSolver/extracted_letter_images/8/000001.png\"\n",
        "    , target_size=(img_height, img_width)\n",
        ")\n",
        "img_array = keras.preprocessing.image.img_to_array(img)\n",
        "img_array = tf.expand_dims(img_array, 0) # Create a batch\n",
        "\n",
        "predictions = model.predict(img_array)\n",
        "score = tf.nn.softmax(predictions[0])\n",
        "\n",
        "print(\n",
        "    \"This image most likely belongs to {} with a {:.2f} percent confidence.\"\n",
        "    .format(class_names[np.argmax(score)], 100 * np.max(score))\n",
        ")\n"
      ],
      "execution_count": null,
      "outputs": [
        {
          "output_type": "stream",
          "text": [
            "This image most likely belongs to 8 with a 99.90 percent confidence.\n",
            "['0', '1', '2', '3', '4', '5', '6', '7', '8', '9']\n"
          ],
          "name": "stdout"
        }
      ]
    },
    {
      "cell_type": "code",
      "metadata": {
        "id": "xfGO2XilQhPU"
      },
      "source": [
        "# Convert the model.\n",
        "converter = tf.lite.TFLiteConverter.from_keras_model(model)\n",
        "tflite_model = converter.convert()\n",
        "\n",
        "# Save the model.\n",
        "with open(MODEL_FILENAME, 'wb') as f:\n",
        "  f.write(tflite_model)"
      ],
      "execution_count": null,
      "outputs": []
    },
    {
      "cell_type": "code",
      "metadata": {
        "colab": {
          "base_uri": "https://localhost:8080/"
        },
        "id": "bJ3hauYQE8s-",
        "outputId": "462350e2-161b-4bcc-ff6f-63fa1731d130"
      },
      "source": [
        "model.save('/content/drive/MyDrive/Model-captcha/captcha_model')"
      ],
      "execution_count": null,
      "outputs": [
        {
          "output_type": "stream",
          "text": [
            "WARNING:absl:Found untraced functions such as conv2d_layer_call_and_return_conditional_losses, conv2d_layer_call_fn, conv2d_1_layer_call_and_return_conditional_losses, conv2d_1_layer_call_fn, conv2d_2_layer_call_and_return_conditional_losses while saving (showing 5 of 30). These functions will not be directly callable after loading.\n"
          ],
          "name": "stderr"
        },
        {
          "output_type": "stream",
          "text": [
            "INFO:tensorflow:Assets written to: /content/drive/MyDrive/Model-captcha/captcha_model/assets\n"
          ],
          "name": "stdout"
        },
        {
          "output_type": "stream",
          "text": [
            "INFO:tensorflow:Assets written to: /content/drive/MyDrive/Model-captcha/captcha_model/assets\n"
          ],
          "name": "stderr"
        }
      ]
    },
    {
      "cell_type": "code",
      "metadata": {
        "id": "iNpbQDNXE3MG"
      },
      "source": [
        "#Import packages\n",
        "\n",
        "import matplotlib.pyplot as plt\n",
        "import numpy as np\n",
        "import os\n",
        "import PIL\n",
        "import cv2\n",
        "import time\n",
        "\n",
        "import tensorflow as tf\n",
        "from tensorflow import keras\n",
        "from tensorflow.keras import layers\n",
        "from tensorflow.keras.models import Sequential"
      ],
      "execution_count": 6,
      "outputs": []
    },
    {
      "cell_type": "code",
      "metadata": {
        "id": "X0QtRxWWYQpK"
      },
      "source": [
        "#loadModel\n",
        "from google.colab import drive\n",
        "drive.mount('/content/drive')\n",
        "\n",
        "MODEL_FILENAME = \"/content/drive/MyDrive/Model-captcha/captcha_model\"\n",
        "model = tf.keras.models.load_model(MODEL_FILENAME)"
      ],
      "execution_count": null,
      "outputs": []
    },
    {
      "cell_type": "code",
      "metadata": {
        "id": "geQ9HZauYD8g"
      },
      "source": [
        "\n",
        "batch_size = 32\n",
        "img_height = 20\n",
        "img_width = 20\n",
        "LETTER_IMAGES_FOLDER = \"extracted_letter_images\"\n",
        "\n",
        "def get_number_from_image(path,img_width=20,img_height=20):\n",
        "  class_names=[0,1,2,3,4,5,6,7,8,9]\n",
        "  img = keras.preprocessing.image.load_img( path, target_size=(img_height, img_width))\n",
        "  img_array = keras.preprocessing.image.img_to_array(img)\n",
        "  img_array = tf.expand_dims(img_array, 0) # Create a batch\n",
        "\n",
        "  predictions = model.predict(img_array)\n",
        "  score = tf.nn.softmax(predictions[0])\n",
        "\n",
        "  print(\n",
        "      \"This image most likely belongs to {} with a {:.2f} percent confidence.\"\n",
        "      .format(class_names[np.argmax(score)], 100 * np.max(score))\n",
        "  )\n",
        "  return class_names[np.argmax(score)]"
      ],
      "execution_count": null,
      "outputs": []
    },
    {
      "cell_type": "code",
      "metadata": {
        "id": "du3NjUjJKci1"
      },
      "source": [
        "### resolution captcha\n",
        "def split_image(path):\n",
        "  # Load image, convert to grayscale, and find edges\n",
        "  image = cv2.imread(path)\n",
        "  gray = cv2.cvtColor(image.copy(), cv2.COLOR_BGR2GRAY)\n",
        "  bordersize=10\n",
        "\n",
        "  gray = cv2.copyMakeBorder(\n",
        "    gray,\n",
        "    top=bordersize,\n",
        "    bottom=bordersize,\n",
        "    left=bordersize,\n",
        "    right=bordersize,\n",
        "    borderType=cv2.BORDER_CONSTANT,\n",
        "    value=[255, 255, 255]\n",
        "  )\n",
        "  thresh = cv2.threshold(gray, 245, 255, cv2.THRESH_BINARY)[1]\n",
        "  #cv2.imwrite('output_masked.png', thresh)\n",
        "  cnts = cv2.findContours(thresh, 1,2)\n",
        "  cnts = cnts[0] if len(cnts) == 2 else cnts[1]\n",
        "  \n",
        "  h_min=15\n",
        "  w_min=15\n",
        "  crops_regions=[]\n",
        "\n",
        "  for c in cnts[:-1]:\n",
        "      x,y,w,h = cv2.boundingRect(c)\n",
        "      if h>=h_min and w>=w_min:\n",
        "        cx=(2*x+w)/2\n",
        "        cy=(2*y+h)/2\n",
        "        ignore=False\n",
        "        for index, r in enumerate(crops_regions):\n",
        "          if r[0]<=cx<=r[0]+r[2] and r[1]<=cy<=r[1]+r[3]:\n",
        "            ignore=True\n",
        "            break\n",
        "          cxx=r[0]+(r[2])/2\n",
        "          cyy=r[1]+(r[3])/2\n",
        "          if x<=cxx<=x+w and y<=cyy<=y+h and r[2]>=w and r[3]>=h:\n",
        "            ignore=True\n",
        "            crops_regions[index]=(x,y,w,h)\n",
        "            break\n",
        "        if not ignore:\n",
        "          crops_regions.append((x,y,w,h))\n",
        "  \n",
        "  i=0\n",
        "  final =sorted(crops_regions, key=lambda region: region[0])\n",
        "  save_path=\"/content/temp/captcha_\"+str(time.time())\n",
        "  if not os.path.exists(save_path):\n",
        "    os.makedirs(save_path)\n",
        "  cv2.imwrite(save_path+\"/thres.png\",thresh)\n",
        "  images_name_saved=[]\n",
        "  for region in final:\n",
        "      x,y,w,h=region\n",
        "      letter_image = gray[y - 2:y + h + 2, x - 2:x + w + 2]\n",
        "      img_name=f'{save_path}/part_{i}.png'\n",
        "      cv2.imwrite(img_name,letter_image)\n",
        "      images_name_saved.append(img_name)\n",
        "      i+=1\n",
        "  return images_name_saved\n",
        "\n",
        "def solve(path):\n",
        "  try:\n",
        "    images_name_saved=split_image(path)\n",
        "    print(images_name_saved)\n",
        "    text=\"\"\n",
        "    for img in images_name_saved:\n",
        "      text+=str(get_number_from_image(img))\n",
        "    return text\n",
        "  except Exception as ex:\n",
        "    print(ex)\n",
        "\n"
      ],
      "execution_count": 77,
      "outputs": []
    },
    {
      "cell_type": "code",
      "metadata": {
        "colab": {
          "base_uri": "https://localhost:8080/",
          "height": 120
        },
        "id": "EafQITjWPAah",
        "outputId": "a2663c9f-3854-4158-8424-c045c957c632"
      },
      "source": [
        "captcha_path=\"/content/CaptchaSolver/images_captcha_générées/5212.jpg\"\n",
        "solve(captcha_path)"
      ],
      "execution_count": null,
      "outputs": [
        {
          "output_type": "stream",
          "text": [
            "\n",
            "This image most likely belongs to 5 with a 99.99 percent confidence.\n",
            "This image most likely belongs to 2 with a 99.95 percent confidence.\n",
            "This image most likely belongs to 1 with a 99.98 percent confidence.\n",
            "This image most likely belongs to 2 with a 99.99 percent confidence.\n"
          ],
          "name": "stdout"
        },
        {
          "output_type": "execute_result",
          "data": {
            "application/vnd.google.colaboratory.intrinsic+json": {
              "type": "string"
            },
            "text/plain": [
              "'5212'"
            ]
          },
          "metadata": {
            "tags": []
          },
          "execution_count": 39
        }
      ]
    },
    {
      "cell_type": "code",
      "metadata": {
        "colab": {
          "base_uri": "https://localhost:8080/",
          "height": 472
        },
        "id": "HAOgP6rLSrUB",
        "outputId": "79599a9d-c451-4328-bd58-c2a5110c31fd"
      },
      "source": [
        "import shutil\n",
        "import requests\n",
        "from PIL import Image\n",
        "import matplotlib.pyplot as plt\n",
        "\n",
        "save_file_capctha=\"/content/test_online\"\n",
        "base_url=\"https://rdv-etrangers-94.interieur.gouv.fr/eAppointmentpref94/captcha?\"\n",
        "params=15\n",
        "    \n",
        "filename = f\"{save_file_capctha}/{params}.png\"\n",
        "src=base_url+str(params)\n",
        "response = requests.get(src, stream=True)\n",
        "with open(filename, 'wb') as out_file:\n",
        "        shutil.copyfileobj(response.raw, out_file)\n",
        "print(filename)\n",
        "print(solve(filename))\n",
        "im = cv2.imread(filename)\n",
        "plt.imshow(cv2.cvtColor(im, cv2.COLOR_BGR2RGB))\n",
        "plt.show()\n"
      ],
      "execution_count": 101,
      "outputs": [
        {
          "output_type": "stream",
          "text": [
            "/content/test_online/15.png\n",
            "False\n",
            "False\n",
            "False\n",
            "False\n",
            "False\n",
            "False\n",
            "True\n",
            "True\n",
            "['/content/temp/captcha_1624392040.0166037/part_0.png', '/content/temp/captcha_1624392040.0166037/part_1.png', '/content/temp/captcha_1624392040.0166037/part_2.png', '/content/temp/captcha_1624392040.0166037/part_3.png', '/content/temp/captcha_1624392040.0166037/part_4.png', '/content/temp/captcha_1624392040.0166037/part_5.png']\n",
            "This image most likely belongs to 0 with a 99.65 percent confidence.\n",
            "This image most likely belongs to 5 with a 99.86 percent confidence.\n",
            "This image most likely belongs to 2 with a 99.81 percent confidence.\n",
            "This image most likely belongs to 2 with a 99.64 percent confidence.\n",
            "This image most likely belongs to 0 with a 97.93 percent confidence.\n",
            "This image most likely belongs to 8 with a 99.78 percent confidence.\n",
            "052208\n"
          ],
          "name": "stdout"
        },
        {
          "output_type": "display_data",
          "data": {
            "image/png": "[encoded data removed]",
            "text/plain": [
              "<Figure size 432x288 with 1 Axes>"
            ]
          },
          "metadata": {
            "tags": [],
            "needs_background": "light"
          }
        }
      ]
    },
    {
      "cell_type": "code",
      "metadata": {
        "id": "7kdGEnBRUe3C"
      },
      "source": [
        "\n"
      ],
      "execution_count": null,
      "outputs": []
    }
  ]
}